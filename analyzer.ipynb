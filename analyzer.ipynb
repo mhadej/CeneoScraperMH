{
 "cells": [
  {
   "cell_type": "markdown",
   "metadata": {},
   "source": [
    "# Ceneo Analyzer"
   ]
  },
  {
   "cell_type": "markdown",
   "metadata": {},
   "source": [
    "## Biblioteki"
   ]
  },
  {
   "cell_type": "code",
   "execution_count": null,
   "metadata": {},
   "outputs": [],
   "source": [
    "import os\n",
    "import pandas as pd\n",
    "from matplotlib import pyplot as plt\n",
    "import numpy as np"
   ]
  },
  {
   "cell_type": "markdown",
   "metadata": {},
   "source": [
    "## Lista kodów produktów, o których mamy pobranie opinie"
   ]
  },
  {
   "cell_type": "code",
   "execution_count": null,
   "metadata": {},
   "outputs": [],
   "source": [
    "print(*[filename.split(\".\")[0] for filename in os.listdir(\"opinions\")], sep=\"\\n\")\n",
    "\n",
    "# 114700014, 50727511"
   ]
  },
  {
   "cell_type": "markdown",
   "metadata": {},
   "source": [
    "## Kod produktu, którego opinie mają zostać przeanalizowane"
   ]
  },
  {
   "cell_type": "code",
   "execution_count": null,
   "metadata": {},
   "outputs": [],
   "source": [
    "product_id = input(\"Proszę podać kod produktu: \")"
   ]
  },
  {
   "cell_type": "markdown",
   "metadata": {},
   "source": [
    "## Wczytanie do obiektu"
   ]
  },
  {
   "cell_type": "code",
   "execution_count": null,
   "metadata": {},
   "outputs": [],
   "source": [
    "opinions = pd.read_json(f\"opinions/{product_id}.json\")\n",
    "\n",
    "opinions.rating = opinions.rating.apply(lambda r: r.split(\"/\")[0].replace(\",\", \".\"), ).astype(float)\n",
    "opinions.recommendation = opinions.recommendation.apply(lambda r: \"Brak\" if r is None else r)"
   ]
  },
  {
   "cell_type": "markdown",
   "metadata": {},
   "source": [
    "## Podstawowe statystyki"
   ]
  },
  {
   "cell_type": "code",
   "execution_count": null,
   "metadata": {},
   "outputs": [],
   "source": [
    "opinions_count  = opinions.shape[0]\n",
    "pros_count      = opinions.pros.apply(lambda p: 1 if p else 0).sum()\n",
    "#pros_count     = opinions.pros.apply(lambda p: None if not p else p).count()\n",
    "cons_count      = opinions.cons.apply(lambda c: 1 if c else 0).sum()\n",
    "avg_rating      = opinions.rating.mean()"
   ]
  },
  {
   "cell_type": "markdown",
   "metadata": {},
   "source": [
    "# Histogram"
   ]
  },
  {
   "cell_type": "code",
   "execution_count": null,
   "metadata": {},
   "outputs": [],
   "source": [
    "rating_distribution = opinions.rating.value_counts().reindex(np.arange(0, 5.5, 0.5), fill_value=0)\n",
    "\n",
    "fig, ax = plt.subplots()\n",
    "rating_distribution.plot.bar(color=\"#ddbea9\")\n",
    "\n",
    "plt.xticks(rotation=0)\n",
    "plt.title(\"Histogram częstości gwiazdek\")\n",
    "plt.xlabel(\"Liczba gwiazdek\")\n",
    "plt.ylabel(\"Liczba opinii\")\n",
    "plt.bar_label(ax.containers[0], label_type='edge')"
   ]
  },
  {
   "cell_type": "markdown",
   "metadata": {},
   "source": [
    "## Udział rekomendacji w opiniach o produkcie"
   ]
  },
  {
   "cell_type": "code",
   "execution_count": null,
   "metadata": {},
   "outputs": [],
   "source": [
    "recommendation_distrb = opinions.recommendation.value_counts().reindex([\"Polecam\", \"Nie polecam\", \"Brak\"])\n",
    "recommendation_distrb"
   ]
  },
  {
   "cell_type": "code",
   "execution_count": null,
   "metadata": {},
   "outputs": [],
   "source": [
    "recommendation_distrb.plot.pie(\n",
    "    colors = [\"hotpink\", \"deeppink\", \"lavenderblush\"],\n",
    "    autopct = \"%1.1f%%\",\n",
    "    label = \"\"\n",
    ")\n",
    "plt.title(\"Udział rekomendacji w opiniach\")"
   ]
  }
 ],
 "metadata": {
  "kernelspec": {
   "display_name": ".venv",
   "language": "python",
   "name": "python3"
  },
  "language_info": {
   "codemirror_mode": {
    "name": "ipython",
    "version": 3
   },
   "file_extension": ".py",
   "mimetype": "text/x-python",
   "name": "python",
   "nbconvert_exporter": "python",
   "pygments_lexer": "ipython3",
   "version": "3.12.0"
  }
 },
 "nbformat": 4,
 "nbformat_minor": 2
}
