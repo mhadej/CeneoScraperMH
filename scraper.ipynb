{
 "cells": [
  {
   "cell_type": "markdown",
   "metadata": {},
   "source": [
    "# Biblioteki"
   ]
  },
  {
   "cell_type": "code",
   "execution_count": null,
   "metadata": {},
   "outputs": [],
   "source": [
    "import requests\n",
    "from bs4 import BeautifulSoup"
   ]
  },
  {
   "cell_type": "markdown",
   "metadata": {},
   "source": [
    "# Zadanie 1"
   ]
  },
  {
   "cell_type": "markdown",
   "metadata": {},
   "source": [
    "## Wysłanie żądania dostępu do zasobu serwera "
   ]
  },
  {
   "cell_type": "code",
   "execution_count": null,
   "metadata": {},
   "outputs": [],
   "source": [
    "product_id = \"114700014\"\n",
    "url = f\"https://www.ceneo.pl/{product_id}/opinie-2\"\n",
    "\n",
    "response   = requests.get(url)"
   ]
  },
  {
   "cell_type": "code",
   "execution_count": 17,
   "metadata": {},
   "outputs": [
    {
     "name": "stdout",
     "output_type": "stream",
     "text": [
      "<class 'bs4.BeautifulSoup'>\n",
      "<class 'bs4.element.ResultSet'>\n",
      "<class 'bs4.element.Tag'>\n",
      "<div class=\"user-post user-post__card js_product-review\" data-entry-id=\"15437754\">\n",
      "<header class=\"user-post__header\">\n",
      "<div class=\"js_lazy user-post__avatar user-rank__avatar\" data-bg=\"/Content/img/account/avatar/7.svg\"></div>\n",
      "</header>\n",
      "<div class=\"user-post__body\">\n",
      "<div class=\"user-post__content\">\n",
      "<span class=\"user-post__author-name\">\n",
      "nemesis wawa</span>\n",
      "<span class=\"user-post__author-recomendation\">\n",
      "<em class=\"recommended\">Polecam</em>\n",
      "</span>\n",
      "<span class=\"user-post__score\">\n",
      "<span class=\"screen-reader-text\">Ocena:</span>\n",
      "<span class=\"score-container score-container--s js_score-container\">\n",
      "<span class=\"score-marker score-marker--s\" style=\"width: 100.00%;\"></span>\n",
      "</span>\n",
      "<span class=\"user-post__score-count\">5/5</span>\n",
      "<span class=\"user-post__published\">\n",
      "        Wystawiono\n",
      "        <time datetime=\"2021-12-28 08:49:18\">3 lata temu, </time>\n",
      "<time datetime=\"2021-12-17 21:01:22\">po 2 tygodniach</time> użytkowania            </span>\n",
      "</span>\n",
      "<div class=\"user-post__text\">Zmiana z v8 zdecydowanie na plus. Dużo lżejszy i zwinniejszy. Opcja pokazywania czasu pozostałego do końca pracy baterii bardzo przydatna. Nie trzeba trzymać przycisku włączania.. Solidne wykonanie. Wart swojej ceny :)</div>\n",
      "<div class=\"review-feature\">\n",
      "<div class=\"review-feature__col\">\n",
      "<div class=\"review-feature__title review-feature__title--positives\">Zalety</div>\n",
      "<div class=\"review-feature__item\">dużo końcówek</div>\n",
      "<div class=\"review-feature__item\">lekki</div>\n",
      "<div class=\"review-feature__item\">poręczny</div>\n",
      "<div class=\"review-feature__item\">przycisk zasilania</div>\n",
      "<div class=\"review-feature__item\">wyświetlacz</div>\n",
      "</div>\n",
      "<div class=\"review-feature__col\">\n",
      "<div class=\"review-feature__title review-feature__title--negatives\">Wady</div>\n",
      "<div class=\"review-feature__item\">brak</div>\n",
      "</div>\n",
      "</div>\n",
      "<div class=\"user-post__bottom\">\n",
      "</div>\n",
      "</div>\n",
      "<div class=\"user-post__info\">\n",
      "<div class=\"d-flex align-items-center justify-content-end\">\n",
      "<div class=\"js_product-review-usefulness vote\">\n",
      "<button class=\"vote-yes js_product-review-vote js_vote-yes\" data-new-icon=\"vote-up\" data-product-id=\"114700014\" data-review-id=\"15437754\" data-total-vote=\"2\" data-url=\"SetOpinionVote\" data-vote=\"1\" data-voted=\"false\"><span id=\"votes-yes-15437754\">2</span></button>\n",
      "<button class=\"vote-no js_product-review-vote js_vote-no\" data-new-icon=\"vote-down\" data-product-id=\"114700014\" data-review-id=\"15437754\" data-total-vote=\"0\" data-url=\"SetOpinionVote\" data-vote=\"0\" data-voted=\"false\"><span id=\"votes-no-15437754\">0</span></button>\n",
      "</div>\n",
      "<div class=\"dropdown-wrapper\">\n",
      "<span class=\"dots-icon-vert\" data-toggle=\"dropdown\"></span>\n",
      "<ul class=\"dropdown-menu force-left\">\n",
      "<li class=\"dropdown-menu__item\" data-product-id=\"114700014\" data-review-id=\"15437754\">\n",
      "<div class=\"js_report-abuse report-abuse cursor-pointer\" data-report-type=\"1\" role=\"button\">\n",
      "<span>\n",
      "Zgłoś    </span>\n",
      "</div>\n",
      "</li>\n",
      "</ul>\n",
      "</div>\n",
      "</div>\n",
      "<div class=\"review-pz\" data-hint=\"Opinia została napisana przez Użytkownika, który kupił produkt.\">\n",
      "<em>Transakcja pochodzi z Marketplace Ceneo (usługi Kup Teraz).</em>\n",
      "</div>\n",
      "</div>\n",
      "<div class=\"js_product-review-comments js_product-review-hook js_product-review-comments-list\" id=\"product-review-comments-15437754\">\n",
      "<a class=\"user-post js_product-review-comment-toggle\" data-comments-count=\"0\" data-product-review-id=\"114700014\" data-review-id=\"15437754\" href=\"#product-review-comment-15437754\" role=\"button\">\n",
      "</a>\n",
      "<div class=\"js_product-review-form-hook\" id=\"product-review-comment-15437754\"></div>\n",
      "</div>\n",
      "</div>\n",
      "</div>\n"
     ]
    }
   ],
   "source": [
    "page_dom = BeautifulSoup(response.text, \"html.parser\")\n",
    "print(type(page_dom))\n",
    "\n",
    "opinions = page_dom.select(\"div.js_product-review\")\n",
    "print(type(opinions))\n",
    "\n",
    "opinion = opinions.pop(0)\n",
    "print(type(opinion))\n",
    "print(opinion)"
   ]
  },
  {
   "cell_type": "markdown",
   "metadata": {},
   "source": [
    "## Ekstrakcja składowych pojedynczej opinii \n",
    "\n",
    "|Składowa|Selektor|Zmienna|\n",
    "|--------|--------|-------|\n",
    "|id opinii|[\"data-entry-id\"]|opinion_id|\n",
    "|autor|span.user-post__author-name|author|\n",
    "|rekomendacja|span.user-post__author-recomendation>em|recommendation|\n",
    "|gwiazdki|span.user-post__score-count|rating|\n",
    "|treść|div.user-post__text|content|\n",
    "|lista zalet|.review-feature__title--positives~.review-feature__item|pros|\n",
    "|lista wad|.review-feature__title--negatives~.review-feature__item|cons|\n",
    "|dla ilu przydatna|[id^=\"votes-yes\"]|useful|\n",
    "|dla ilu nieprzydatna|[id^=\"votes-no\"]|useless|\n",
    "|data wystawienia|.user-post__published > time:nth-child(1)[\"datetime\"]|post_date|\n",
    "|data zakupu|.user-post__published > time:nth-child(2)[\"datetime\"]|purchase_date|"
   ]
  },
  {
   "cell_type": "code",
   "execution_count": 76,
   "metadata": {},
   "outputs": [],
   "source": [
    "opinion_id = opinion.get(\"data-entry-id\")\n",
    "author = opinion.select_one(\"span.user-post__author-name\")\n",
    "recommendation = opinion.select_one(\"span.user-post__author-recomendation > em\")\n",
    "rating = opinion.select_one(\"span.user-post__score-count\")\n",
    "content = opinion.select_one(\"div.user-post__text\")\n",
    "pros = opinion.select(\".review-feature__title--positives~.review-feature__item\")\n",
    "cons = opinion.select(\".review-feature__title--negatives~.review-feature__item\")\n",
    "useful = opinion.select('[id^=\"votes-yes\"]')\n",
    "useless = opinion.select('[id^=\"votes-no\"]')\n",
    "post_date = opinion.select_one(\".user-post__published > time:nth-child(1)\").get(\"datetime\")\n",
    "purchase_date = opinion.select_one(\".user-post__published > time:nth-child(2)\").get(\"datetime\")\n",
    "\n",
    "# commit -m \"data homework HM\""
   ]
  },
  {
   "cell_type": "code",
   "execution_count": 87,
   "metadata": {},
   "outputs": [
    {
     "name": "stdout",
     "output_type": "stream",
     "text": [
      "\n",
      "Id: 15437754\n",
      "\n",
      "Autor: \n",
      "nemesis wawa\n",
      "\n",
      "Poleca? Polecam\n",
      "\n",
      "Na ile? 5/5\n",
      "\n",
      "Opinia: Zmiana z v8 zdecydowanie na plus. Dużo lżejszy i zwinniejszy. Opcja pokazywania czasu pozostałego do końca pracy baterii bardzo przydatna. Nie trzeba trzymać przycisku włączania.. Solidne wykonanie. Wart swojej ceny :)\n",
      "\n",
      "Lista zalet:\n",
      "dużo końcówek\n",
      "lekki\n",
      "poręczny\n",
      "przycisk zasilania\n",
      "wyświetlacz\n",
      "\n",
      "Lista wad:\n",
      "brak\n",
      "\n",
      "Dla ilu przydatna? 2\n",
      "\n",
      "Dla ilu nieprzydatna? 0\n",
      "\n",
      "Data wystawienia: 2021-12-28 08:49:18\n",
      "\n",
      "Data zakupu: 2021-12-17 21:01:22\n"
     ]
    }
   ],
   "source": [
    "print(f\"\\nId: {opinion_id}\")\n",
    "print(f\"\\nAutor: {author.get_text()}\")\n",
    "print(f\"\\nPoleca? {recommendation.get_text()}\")\n",
    "print(f\"\\nNa ile? {rating.get_text()}\")\n",
    "print(f\"\\nOpinia: {content.get_text()}\")\n",
    "\n",
    "print(\"\\nLista zalet:\")\n",
    "for i in pros:\n",
    "    print(i.get_text())\n",
    "\n",
    "print(\"\\nLista wad:\")\n",
    "for i in cons:\n",
    "    print(i.get_text())\n",
    "\n",
    "print(f\"\\nDla ilu przydatna? {useful[0].get_text()}\")\n",
    "print(f\"\\nDla ilu nieprzydatna? {useless[0].get_text()}\")\n",
    "print(f\"\\nData wystawienia: {post_date}\")\n",
    "print(f\"\\nData zakupu: {purchase_date}\")"
   ]
  }
 ],
 "metadata": {
  "kernelspec": {
   "display_name": ".venv",
   "language": "python",
   "name": "python3"
  },
  "language_info": {
   "codemirror_mode": {
    "name": "ipython",
    "version": 3
   },
   "file_extension": ".py",
   "mimetype": "text/x-python",
   "name": "python",
   "nbconvert_exporter": "python",
   "pygments_lexer": "ipython3",
   "version": "3.12.0"
  }
 },
 "nbformat": 4,
 "nbformat_minor": 2
}
