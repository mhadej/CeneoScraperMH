{
 "cells": [
  {
   "cell_type": "markdown",
   "metadata": {},
   "source": [
    "# Biblioteki"
   ]
  },
  {
   "cell_type": "code",
   "execution_count": 92,
   "metadata": {},
   "outputs": [],
   "source": [
    "import json\n",
    "import os\n",
    "import requests\n",
    "from bs4 import BeautifulSoup"
   ]
  },
  {
   "cell_type": "markdown",
   "metadata": {},
   "source": [
    "# Zadanie 1"
   ]
  },
  {
   "cell_type": "markdown",
   "metadata": {},
   "source": [
    "## Wysłanie żądania dostępu do zasobu serwera "
   ]
  },
  {
   "cell_type": "code",
   "execution_count": 93,
   "metadata": {},
   "outputs": [],
   "source": [
    "product_id = \"114700014\"\n",
    "url = f\"https://www.ceneo.pl/{product_id}/opinie-1\"\n",
    "\n",
    "# https://www.ceneo.pl/114700014/opinie-1"
   ]
  },
  {
   "cell_type": "code",
   "execution_count": 94,
   "metadata": {},
   "outputs": [],
   "source": [
    "all_opinions = []\n",
    "\n",
    "while (url):\n",
    "    response = requests.get(url)\n",
    "    page_dom = BeautifulSoup(response.text, \"html.parser\")\n",
    "    #print(type(page_dom))\n",
    "\n",
    "    opinions = page_dom.select(\"div.js_product-review\")\n",
    "    #print(type(opinions))\n",
    "\n",
    "    for opinion in opinions:\n",
    "        try:\n",
    "            single_opinion = {\n",
    "                \"opinion_id\"      : opinion[\"data-entry-id\"],\n",
    "                \"author\"          : opinion.select_one(\"span.user-post__author-name\").get_text().strip(),\n",
    "                \"recommendation\"  : opinion.select_one(\"span.user-post__author-recomendation > em\").get_text().strip(),\n",
    "                \"rating\"          : opinion.select_one(\"span.user-post__score-count\").get_text().strip(),\n",
    "                \"content\"         : opinion.select_one(\"div.user-post__text\").get_text().strip(),\n",
    "                \"pros\"            : [p.get_text().strip() for p in opinion.select(\".review-feature__title--positives~.review-feature__item\")],\n",
    "                \"cons\"            : [c.get_text().strip() for c in opinion.select(\".review-feature__title--negatives~.review-feature__item\")],\n",
    "                \"useful\"          : opinion.select_one('span[id^=\"votes-yes\"]').get_text().strip(),\n",
    "                \"useless\"         : opinion.select_one('span[id^=\"votes-no\"]').get_text().strip(),\n",
    "                \"post_date\"       : opinion.select_one(\".user-post__published > time:nth-child(1)\")[\"datetime\"].strip(),\n",
    "                \"purchase_date\"   : opinion.select_one(\".user-post__published > time:nth-child(2)\")[\"datetime\"].strip()\n",
    "            }\n",
    "        \n",
    "            all_opinions.append(single_opinion)\n",
    "\n",
    "        except (AttributeError, TypeError):\n",
    "            pass\n",
    "    try: \n",
    "        url = \"https://www.ceneo.pl\" + page_dom.select_one(\"div.pagination__next\")[\"href\"]\n",
    "    except TypeError:\n",
    "        url = False"
   ]
  },
  {
   "cell_type": "markdown",
   "metadata": {},
   "source": [
    "## Ekstrakcja składowych pojedynczej opinii \n",
    "\n",
    "|Składowa|Selektor|Zmienna|\n",
    "|--------|--------|-------|\n",
    "|id opinii|[\"data-entry-id\"]|opinion_id|\n",
    "|autor|span.user-post__author-name|author|\n",
    "|rekomendacja|span.user-post__author-recomendation>em|recommendation|\n",
    "|gwiazdki|span.user-post__score-count|rating|\n",
    "|treść|div.user-post__text|content|\n",
    "|lista zalet|.review-feature__title--positives~.review-feature__item|pros|\n",
    "|lista wad|.review-feature__title--negatives~.review-feature__item|cons|\n",
    "|dla ilu przydatna|[id^=\"votes-yes\"]|useful|\n",
    "|dla ilu nieprzydatna|[id^=\"votes-no\"]|useless|\n",
    "|data wystawienia|.user-post__published > time:nth-child(1)[\"datetime\"]|post_date|\n",
    "|data zakupu|.user-post__published > time:nth-child(2)[\"datetime\"]|purchase_date|"
   ]
  },
  {
   "cell_type": "code",
   "execution_count": 95,
   "metadata": {},
   "outputs": [],
   "source": [
    "if not os.path.exists(\"opinions\"):\n",
    "    os.mkdir(\"opinions\")\n",
    "\n",
    "with open(f\"opinions/{product_id}.json\", \"w\", encoding=\"UTF-8\") as jfile:\n",
    "    json.dump(all_opinions, jfile, indent=6, ensure_ascii=False)"
   ]
  }
 ],
 "metadata": {
  "kernelspec": {
   "display_name": ".venv",
   "language": "python",
   "name": "python3"
  },
  "language_info": {
   "codemirror_mode": {
    "name": "ipython",
    "version": 3
   },
   "file_extension": ".py",
   "mimetype": "text/x-python",
   "name": "python",
   "nbconvert_exporter": "python",
   "pygments_lexer": "ipython3",
   "version": "3.12.0"
  }
 },
 "nbformat": 4,
 "nbformat_minor": 2
}
