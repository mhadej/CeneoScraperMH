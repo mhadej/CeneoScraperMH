{
 "cells": [
  {
   "cell_type": "markdown",
   "metadata": {},
   "source": [
    "# Biblioteki"
   ]
  },
  {
   "cell_type": "code",
   "execution_count": null,
   "metadata": {},
   "outputs": [],
   "source": [
    "import os\n",
    "import json\n",
    "import requests\n",
    "from bs4 import BeautifulSoup"
   ]
  },
  {
   "cell_type": "markdown",
   "metadata": {},
   "source": [
    "# Zadanie 1"
   ]
  },
  {
   "cell_type": "markdown",
   "metadata": {},
   "source": [
    "## Wysłanie żądania dostępu do zasobu serwera "
   ]
  },
  {
   "cell_type": "code",
   "execution_count": null,
   "metadata": {},
   "outputs": [],
   "source": [
    "def extract(ancestor, selector=None, attribute=None, returns_list=False):\n",
    "    if selector:          \n",
    "        if returns_list:\n",
    "            if attribute:\n",
    "                return [tag[attribute].strip() for tag in ancestor.select(selector)]\n",
    "            return [tag.get_text().strip() for tag in ancestor.select(selector)]\n",
    "\n",
    "        if attribute:\n",
    "            try:\n",
    "                return ancestor.select_one(selector)[attribute].strip()\n",
    "            except TypeError:\n",
    "                return None\n",
    "        try:\n",
    "            return ancestor.select_one(selector).get_text().strip()\n",
    "        except AttributeError:\n",
    "            return None\n",
    "    if attribute:\n",
    "        return ancestor[attribute].strip()\n",
    "    return ancestor.get_text().strip()"
   ]
  },
  {
   "cell_type": "code",
   "execution_count": null,
   "metadata": {},
   "outputs": [],
   "source": [
    "product_id = \"114700014\"\n",
    "url = f\"https://www.ceneo.pl/{product_id}/opinie-1\"\n",
    "\n",
    "# https://www.ceneo.pl/114700014/opinie-1"
   ]
  },
  {
   "cell_type": "code",
   "execution_count": null,
   "metadata": {},
   "outputs": [],
   "source": [
    "selectors = {\n",
    "                \"opinion_id\"      : (None, \"data-entry-id\"),\n",
    "                \"author\"          : (\"span.user-post__author-name\", ),\n",
    "                \"recommendation\"  : (\"span.user-post__author-recomendation > em\", ),\n",
    "                \"rating\"          : (\"span.user-post__score-count\", ),\n",
    "                \"content\"         : (\"div.user-post__text\", ),\n",
    "                \"pros\"            : (\"div.review-feature__title--positives~.review-feature__item\", None, True),\n",
    "                \"cons\"            : (\"div.review-feature__title--negatives~.review-feature__item\", None, True),\n",
    "                \"useful\"          : (\"span[id^='votes-yes']\", ),\n",
    "                \"useless\"         : (\"span[id^='votes-no']\", ),\n",
    "                \"post_date\"       : (\"span.user-post__published > time:nth-child(1)\", \"datetime\"),\n",
    "                \"purchase_date\"   : (\"span.user-post__published > time:nth-child(2)\", \"datetime\"),\n",
    "            }"
   ]
  },
  {
   "cell_type": "code",
   "execution_count": null,
   "metadata": {},
   "outputs": [],
   "source": [
    "all_opinions = []\n",
    "\n",
    "while (url):\n",
    "    response = requests.get(url)\n",
    "    page_dom = BeautifulSoup(response.text, \"html.parser\")\n",
    "    #print(type(page_dom))\n",
    "\n",
    "    opinions = page_dom.select(\"div.js_product-review\")\n",
    "    #print(type(opinions))\n",
    "\n",
    "    for opinion in opinions:\n",
    "        single_opinion = {\n",
    "            key: extract(opinion, *value)\n",
    "                for key, value in selectors.items()\n",
    "        }        \n",
    "        all_opinions.append(single_opinion)\n",
    "    try: \n",
    "        url = \"https://www.ceneo.pl\" + extract(page_dom, \"a.pagination__next\", \"href\")\n",
    "    except TypeError:\n",
    "        url = False"
   ]
  },
  {
   "cell_type": "markdown",
   "metadata": {},
   "source": [
    "## Ekstrakcja składowych pojedynczej opinii \n",
    "\n",
    "|Składowa|Selektor|Zmienna|\n",
    "|--------|--------|-------|\n",
    "|id opinii|[\"data-entry-id\"]|opinion_id|\n",
    "|autor|span.user-post__author-name|author|\n",
    "|rekomendacja|span.user-post__author-recomendation>em|recommendation|\n",
    "|gwiazdki|span.user-post__score-count|rating|\n",
    "|treść|div.user-post__text|content|\n",
    "|lista zalet|.review-feature__title--positives~.review-feature__item|pros|\n",
    "|lista wad|.review-feature__title--negatives~.review-feature__item|cons|\n",
    "|dla ilu przydatna|[id^=\"votes-yes\"]|useful|\n",
    "|dla ilu nieprzydatna|[id^=\"votes-no\"]|useless|\n",
    "|data wystawienia|.user-post__published > time:nth-child(1)[\"datetime\"]|post_date|\n",
    "|data zakupu|.user-post__published > time:nth-child(2)[\"datetime\"]|purchase_date|"
   ]
  },
  {
   "cell_type": "code",
   "execution_count": null,
   "metadata": {},
   "outputs": [],
   "source": [
    "if not os.path.exists(\"opinions\"):\n",
    "    os.mkdir(\"opinions\")\n",
    "\n",
    "with open(f\"opinions/{product_id}.json\", \"w\", encoding=\"UTF-8\") as jfile:\n",
    "    json.dump(all_opinions, jfile, indent=6, ensure_ascii=False)"
   ]
  },
  {
   "cell_type": "code",
   "execution_count": null,
   "metadata": {},
   "outputs": [],
   "source": [
    "len(all_opinions)"
   ]
  }
 ],
 "metadata": {
  "kernelspec": {
   "display_name": ".venv",
   "language": "python",
   "name": "python3"
  },
  "language_info": {
   "codemirror_mode": {
    "name": "ipython",
    "version": 3
   },
   "file_extension": ".py",
   "mimetype": "text/x-python",
   "name": "python",
   "nbconvert_exporter": "python",
   "pygments_lexer": "ipython3",
   "version": "3.12.0"
  }
 },
 "nbformat": 4,
 "nbformat_minor": 2
}
